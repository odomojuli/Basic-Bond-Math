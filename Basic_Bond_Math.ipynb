{
 "metadata": {
  "name": "",
  "signature":"sha256:9c7836971f6995f91a368550ca786ff2dfec1afc249a2785ef56170b3d415ade"
 },
 "nbformat": 3,
 "nbformat_minor": 0,
 "worksheets": [
  {
   "cells": [
    {
     "cell_type": "heading",
     "level": 2,
     "metadata": {},
     "source": [
      "BASIC BOND MATH"
     ]
    },
    {
     "cell_type": "markdown",
     "metadata": {},
     "source": [
      "In this notebook we will get started with using Python for financial computation. You first need to download and install IPython which is an entire system for interactive use of Python. Luckily, this is easily done by visiting the following URL and downloading the version applicable to your machine (Python runs on all platforms). \n",
      "\n",
      "Visit Continuum Analytics and download Python: http://continuum.io/downloads and install it. Test that it works by using the Launcher (which will be on your desktop) to start up the IPython Notebook. \n",
      "\n",
      "Also install the R programming language, which is a very useful tool for Machine Learning. \n",
      "See: http://en.wikipedia.org/wiki/Machine_learning\n",
      "Get R from: http://www.r-project.org/ (download and install it). \n",
      "\n",
      "In order to allow Python to interface with R, you also need to install the \"rpy2\" package from: http://rpy.sourceforge.net/\n",
      "While you do not need to use R, and can get by mostly with Python, it is also a useful language as there are heaps of finance packages in R. As you will see, we can run both within the IPython Notebook. (Indeed, these lecture notes have been prepared in the Notebook.)\n",
      "\n",
      "If you want to use R in IDE mode, download RStudio: http://www.rstudio.com/\n",
      "\n",
      "Particularly useful are linear algebra capabilities in Python and R. In Python the package numPy makes these facile. Also useful are graphical libraries, and in Python, these comes in the matplotlib package. "
     ]
    },
    {
     "cell_type": "code",
     "collapsed": false,
     "input": [
      "#INCLUDING SCIENTIFIC AND NUMERICAL COMPUTING LIBRARIES\n",
      "%pylab inline"
     ],
     "language": "python",
     "metadata": {},
     "outputs": [
      {
       "output_type": "stream",
       "stream": "stdout",
       "text": [
        "Populating the interactive namespace from numpy and matplotlib\n"
       ]
      }
     ],
     "prompt_number": 1
    },
    {
     "cell_type": "markdown",
     "metadata": {},
     "source": [
      "DEFINITIONS - 1\n",
      "\n",
      "A standard bond is a security with a given principal and fixed periodic payments. Hence, it is called a \"fixed-income\" security. \n",
      "\n",
      "A bond has a redemption or \"face\" value $F$, usually \\$1, \\$100, or \\$1000. This amount is known as \"par\" value. This is also called the \"principal\" of the bond. \n",
      "\n",
      "A standard bond has periodic interest payments at annual rate $c\\%$ up to a maturity of $T$ years. These periodic payments are known as the \"coupons\" of the bond. Historically, when you bought a bond, it came with post-dated cheques for the interest payments, called \"coupons\" that you clipped and cashed every period. \n",
      "\n",
      "In the US, bond interest payments are usually semi-annual. In Europe, payments are usually annual. "
     ]
    },
    {
     "cell_type": "markdown",
     "metadata": {},
     "source": [
      "DEFINITIONS - 2\n",
      "\n",
      "Coupon payments are calculated at $c\\%$ per annum using the face value of the bond. Hence, if the face value is $F=\\$100$, and the coupon is $c=6\\%$, paid semi-annually, then the periodic payment every six months is \\$3.  \n",
      "\n",
      "At maturity, you will receive both the principal and final interest payment, i.e., \\$103 in our example. \n",
      "\n",
      "The ``internal rate of return'' (IRR) of a bond is the interest rate at which the discounted cash flows of the bond equal its par value. \n",
      "\n",
      "The {\\it yield-to-maturity} or ``ytm'' or $y$ for a given maturity $T$ is the IRR of a freshly issued bond of maturity $T$. This is also known as the market rate of interest.  \n",
      "\n",
      "The {\\it present value} of a bond's cash flows discounted at the market rate of interest applicable to the bond is also known as its {\\it price}. "
     ]
    },
    {
     "cell_type": "markdown",
     "metadata": {},
     "source": [
      "EXAMPLE\n",
      "\n",
      "Bond features: $T=5$, $c=7\\%=0.07$, $y=6\\%$.\n",
      "\n",
      "Semi-annual basis. Face value = \\$1.\n",
      "\n",
      "The price or present value is:\n",
      "$P = \\sum_{j=1}^{10} \\frac{c/2}{(1+y/2)^j} + \\frac{1}{(1+y/2)^{10}} = 1.042651$\n",
      "\n",
      "as computed below."
     ]
    },
    {
     "cell_type": "code",
     "collapsed": false,
     "input": [
      "c = 0.07; y = 0.06; T=5.0\n",
      "j = arange(1,2*T+1)\n",
      "disc_cf = (c/2.0)/(1.0+y/2)**j\n",
      "print(disc_cf)\n",
      "P = sum(disc_cf) + 1.0/(1.0+y/2)**(T*2)\n",
      "print(P)"
     ],
     "language": "python",
     "metadata": {},
     "outputs": [
      {
       "output_type": "stream",
       "stream": "stdout",
       "text": [
        "[ 0.03398058  0.03299086  0.03202996  0.03109705  0.03019131  0.02931195\n",
        "  0.0284582   0.02762932  0.02682459  0.02604329]\n",
        "1.04265101418\n"
       ]
      }
     ],
     "prompt_number": 2
    },
    {
     "cell_type": "code",
     "collapsed": false,
     "input": [
      "#y>c\n",
      "c = 0.07; y = 0.08; T=5.0\n",
      "j = arange(1,2*T+1)\n",
      "disc_cf = (c/2.0)/(1.0+y/2)**j\n",
      "print(disc_cf)\n",
      "P = sum(disc_cf) + 1.0/(1.0+y/2)**(T*2)\n",
      "print(P)"
     ],
     "language": "python",
     "metadata": {},
     "outputs": [
      {
       "output_type": "stream",
       "stream": "stdout",
       "text": [
        "[ 0.03365385  0.03235947  0.03111487  0.02991815  0.02876745  0.02766101\n",
        "  0.02659712  0.02557416  0.02459054  0.02364475]\n",
        "0.959445521103\n"
       ]
      }
     ],
     "prompt_number": 3
    },
    {
     "cell_type": "code",
     "collapsed": false,
     "input": [
      "#y=c\n",
      "c = 0.07; y = 0.07; T=5.0\n",
      "j = arange(1,2*T+1)\n",
      "disc_cf = (c/2.0)/(1.0+y/2)**j\n",
      "print(disc_cf)\n",
      "P = sum(disc_cf) + 1.0/(1.0+y/2)**(T*2)\n",
      "print(P)"
     ],
     "language": "python",
     "metadata": {},
     "outputs": [
      {
       "output_type": "stream",
       "stream": "stdout",
       "text": [
        "[ 0.03381643  0.03267287  0.03156799  0.03050048  0.02946906  0.02847252\n",
        "  0.02750968  0.0265794   0.02568058  0.02481216]\n",
        "1.0\n"
       ]
      }
     ],
     "prompt_number": 4
    },
    {
     "cell_type": "code",
     "collapsed": false,
     "input": [
      "#DIFFERENT DISCOUNTING BASES\n",
      "k = array([1,2,4,8,16,32,64,128.256,512,1024,2048,4096,100000])\n",
      "r = 0.10\n",
      "pv = 1.0/(1.0+r/k)**k\n",
      "print(pv)\n",
      "print(exp(-r))\n",
      "plot(pv)\n",
      "grid()\n",
      "xlabel(\"Years\"); ylabel(\"Price\"); title(\"Discount Bond Price\")"
     ],
     "language": "python",
     "metadata": {},
     "outputs": [
      {
       "output_type": "stream",
       "stream": "stdout",
       "text": [
        "[ 0.90909091  0.90702948  0.90595064  0.90539845  0.90511905  0.90497852\n",
        "  0.90490804  0.90487268  0.90484625  0.90484184  0.90483963  0.90483852\n",
        "  0.90483746]\n",
        "0.904837418036\n"
       ]
      },
      {
       "metadata": {},
       "output_type": "pyout",
       "prompt_number": 7,
       "text": [
        "<matplotlib.text.Text at 0x1052fd510>"
       ]
      },
      {
       "metadata": {},
       "output_type": "display_data",
       "png": "[encoded data removed]",
       "text": [
        "<matplotlib.figure.Figure at 0x1052120d0>"
       ]
      }
     ],
     "prompt_number": 7
    },
    {
     "cell_type": "markdown",
     "metadata": {},
     "source": [
      "Bonds with Continuous Coupons\n",
      "\n",
      "The price of a bond of par value $F$ that pays coupon $c$ continuously till maturity $T$ is\n",
      "\n",
      "$P = \\int_0^T F \\cdot c \\cdot e^{-yt}\\; dt + F \\cdot e^{-yT}$\n",
      "\n",
      "Assuming $F=1$, and taking the simple integral above, we have that\n",
      "\n",
      "$P = \\frac{c}{y} \\left[1-e^{-yT} \\right] + e^{-yT}$\n",
      "\n",
      "Check that when $c=y$, the bond trades at par, i.e., $P=1=F$. \n",
      "\n",
      "hat happens to the bond's price as maturity changes?\n",
      "\n",
      "$\\frac{dP}{dT} = e^{-yT} (c-y)$\n",
      "\n",
      "which depends on the relative difference between $c$ and $y$. "
     ]
    },
    {
     "cell_type": "code",
     "collapsed": false,
     "input": [
      "#CONTINUOUS COUPONS\n",
      "n = 10000; T = 2.0; dt = T/n\n",
      "c = 0.06; y = 0.06\n",
      "t = linspace(dt,T,n)\n",
      "P = sum(c*exp(-y*t)*dt) + exp(-y*T)\n",
      "print(\"P from integration = \",P)\n",
      "\n",
      "def Pexact(c,y,T):\n",
      "    return c/y*(1-exp(-y*T)) + exp(-y*T)\n",
      "print(\"Pexact = \",Pexact(c,y,T))"
     ],
     "language": "python",
     "metadata": {},
     "outputs": [
      {
       "output_type": "stream",
       "stream": "stdout",
       "text": [
        "('P from integration = ', 0.99999932152397719)\n",
        "('Pexact = ', 1.0)\n"
       ]
      }
     ],
     "prompt_number": 8
    },
    {
     "cell_type": "markdown",
     "metadata": {},
     "source": [
      "CHANGE IN VALUE WITH TIME\n",
      "\n",
      "$dP/dY = e^{-yT}(c-y)$"
     ]
    },
    {
     "cell_type": "code",
     "collapsed": false,
     "input": [
      "dP_dT = exp(-y*T)*(c-y)\n",
      "print(\"dP_dT = \",dP_dT)"
     ],
     "language": "python",
     "metadata": {},
     "outputs": [
      {
       "output_type": "stream",
       "stream": "stdout",
       "text": [
        "('dP_dT = ', 0.0)\n"
       ]
      }
     ],
     "prompt_number": 9
    },
    {
     "cell_type": "markdown",
     "metadata": {},
     "source": [
      "DURATION (percentage change in value per dollar for a change in y)\n",
      "\n",
      "$D = -\\frac{1}{P} \\frac{dP}{dy}$\n",
      "\n",
      "Duration is represented in units of years. "
     ]
    },
    {
     "cell_type": "code",
     "collapsed": false,
     "input": [
      "#COMPUTE DURATION\n",
      "#NUMERICALLY\n",
      "dp_dy = (Pexact(c,y+0.0001,T) - Pexact(c,y-0.0001,T))/0.0002\n",
      "D_num = -1.0*dp_dy/Pexact(c,y,T) \n",
      "print(\"Duration numerical = \",D_num)"
     ],
     "language": "python",
     "metadata": {},
     "outputs": [
      {
       "output_type": "stream",
       "stream": "stdout",
       "text": [
        "('Duration numerical = ', 1.8846594002364103)\n"
       ]
      }
     ],
     "prompt_number": 10
    }
   ],
   "metadata": {}
  }
 ]
}
